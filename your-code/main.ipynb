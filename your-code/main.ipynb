{
 "cells": [
  {
   "cell_type": "markdown",
   "metadata": {},
   "source": [
    "# Before your start:\n",
    "- Read the README.md file.\n",
    "- Comment as much as you can and use the resources (README.md file).\n",
    "- Happy learning!"
   ]
  },
  {
   "cell_type": "code",
   "execution_count": 1,
   "metadata": {},
   "outputs": [],
   "source": [
    "# Libraries\n",
    "import matplotlib.pyplot as plt\n",
    "import scipy.stats\n",
    "from scipy.stats import norm\n",
    "from scipy import stats\n",
    "import numpy as np"
   ]
  },
  {
   "cell_type": "markdown",
   "metadata": {},
   "source": [
    "# Challenge 1 - Generate and Plot Normal Distributions\n",
    "#### Step 1: Generate samples and test normal distribution.\n",
    "\n",
    "Use mean=50, standard_deviation=5, and sample_size=[10, 50, 500, 5000] to generate 4 random samples that are normally distributed.\n",
    "\n",
    "**Hint**: Read the documentation for `scipy.stats.norm.rvs`. The function will help you create the normal random samples."
   ]
  },
  {
   "cell_type": "code",
   "execution_count": 2,
   "metadata": {},
   "outputs": [
    {
     "data": {
      "text/plain": [
       "[array([ 8.71295096,  9.41949526, -6.78622767,  4.393737  ,  8.36501761,\n",
       "        -3.99032461,  2.20817712,  3.74528754,  6.48375878,  5.66667495]),\n",
       " array([-1.40567261e+00,  2.65521934e+00,  1.23309922e+01,  1.19918430e+01,\n",
       "         1.07093198e+01, -9.45968849e-01,  3.97903819e+00,  1.15859260e+01,\n",
       "         2.00340545e+00,  1.11105696e+01, -4.94900440e-01,  7.62402149e+00,\n",
       "        -4.21245380e+00,  1.40327005e+01,  7.65515588e+00, -1.33652975e+00,\n",
       "         2.53766792e+00, -9.11089592e-01,  1.29137905e+01,  1.75103435e+00,\n",
       "         1.26957452e+01,  2.87402821e+00,  9.55079695e+00,  8.87386640e+00,\n",
       "         1.48942729e-02,  2.77365791e+00,  9.38653557e+00,  3.66079988e-01,\n",
       "         1.72252122e+00,  2.61247541e+00,  1.31928991e+00,  4.11692061e+00,\n",
       "         1.08535169e+01,  1.34309981e+01,  8.46975681e+00,  5.64507717e-01,\n",
       "         1.09115590e+01,  1.78062537e+01,  2.98129010e+00,  1.42831796e+01,\n",
       "         4.05945599e+00,  7.44067367e+00,  3.60155556e+00,  6.35853008e+00,\n",
       "         3.68867493e+00,  1.01240434e+01,  5.15557477e+00,  2.92552995e-02,\n",
       "         3.44640061e+00,  1.07943126e+01]),\n",
       " array([ 7.58097382e+00,  1.86408766e+00,  5.24301655e+00,  6.50833799e-01,\n",
       "         5.60830256e+00,  2.56958676e+00,  7.68871072e+00,  8.25691401e-01,\n",
       "        -1.20877670e+00,  2.96459352e+00, -2.53016229e+00,  5.04026588e+00,\n",
       "         5.93281192e+00,  3.56721880e+00,  1.04213591e+00,  5.24373810e+00,\n",
       "         5.33987408e+00,  1.81812770e+00,  2.92720735e+00, -3.78202598e-01,\n",
       "         3.21283317e+00,  7.82765178e+00, -2.47491472e+00, -6.55802694e-01,\n",
       "         4.53796962e+00,  6.78541880e+00,  5.19144280e+00, -1.02210533e+00,\n",
       "         3.30860763e+00,  9.84303010e+00,  4.54915978e+00,  2.35085977e+00,\n",
       "        -2.55629305e+00,  1.08449543e+00,  7.81775510e+00,  5.16566200e-01,\n",
       "         1.26816598e+01,  5.01702133e-01,  4.80236728e-01, -2.30266558e+00,\n",
       "         4.06299970e+00,  1.12015571e+01,  4.53095058e+00,  4.73195811e+00,\n",
       "         1.47513450e+01,  3.66645141e-01,  2.82993016e+00, -3.60088538e-01,\n",
       "        -2.20059522e+00,  6.74426944e+00,  8.79098809e+00,  9.85526356e+00,\n",
       "         5.88189341e+00,  7.47434512e+00,  1.77437685e+00,  6.30983243e+00,\n",
       "         7.24242780e+00,  3.23674667e+00,  4.97133077e+00,  3.10375642e-01,\n",
       "         2.52481907e+00,  3.12666020e+00,  2.07773041e+00,  1.51713600e+01,\n",
       "         5.04328947e+00, -9.51234239e-01, -6.75048331e-01,  8.96614719e+00,\n",
       "        -1.09773513e+00,  5.30892519e+00,  8.87579195e+00,  1.03643474e+01,\n",
       "         1.02236755e+01, -4.64500440e-04,  5.62235670e+00,  7.89574490e+00,\n",
       "         1.07836971e+01,  9.88282334e+00,  1.04054800e+01,  1.22515735e+01,\n",
       "         8.87280300e+00,  7.62788995e+00,  2.76568405e+00,  6.73146978e+00,\n",
       "        -2.63691602e+00,  5.14411523e+00,  5.69320533e+00,  1.94754900e+01,\n",
       "         1.30937582e+01,  8.93099715e+00, -5.14367848e-01,  3.58797911e+00,\n",
       "         4.13709803e+00,  4.27192233e+00,  7.68092862e+00,  7.94927816e+00,\n",
       "        -4.49990761e+00,  1.05293028e+01,  4.98893252e+00, -1.27900366e+00,\n",
       "         2.92098545e+00,  7.30287882e-01,  7.00835062e+00,  5.03566916e+00,\n",
       "        -1.74948914e+00,  7.02337355e+00, -8.05261024e-01,  6.13695344e+00,\n",
       "         6.60655373e+00,  1.17231210e+01,  1.21148153e+00,  1.47293649e-01,\n",
       "         8.28234710e+00,  4.18978104e+00,  8.47935689e+00,  5.91322175e+00,\n",
       "         6.80310159e+00,  9.49952539e+00,  9.03176143e+00,  4.39294297e+00,\n",
       "        -3.28664210e-01, -3.81851107e+00,  5.36115903e+00,  1.25145743e+01,\n",
       "         5.19142565e+00,  8.31752336e+00, -3.49862118e-01,  6.26952538e+00,\n",
       "        -1.56572828e+00,  3.66530891e+00,  1.34950618e+01,  1.04563750e+01,\n",
       "         6.82548374e+00,  6.23810169e+00,  5.42486507e+00,  9.49076045e+00,\n",
       "         7.97699532e+00,  7.98736665e+00,  5.31241336e+00, -8.99261826e+00,\n",
       "         7.02206093e+00,  2.05224153e+00,  1.23324427e+01,  1.05977205e+01,\n",
       "         5.96909904e+00,  3.96926364e+00,  1.08203730e+01,  7.98228407e+00,\n",
       "         8.79708532e+00,  2.60722389e+00,  8.16798909e+00, -2.01704992e+00,\n",
       "         2.84657064e+00,  5.75233007e+00,  6.57432955e+00,  2.18447505e+00,\n",
       "         2.67117246e+00,  1.59026545e+00, -1.23412809e+00,  3.43223892e+00,\n",
       "         1.19734373e+01, -3.16461240e+00, -5.37697453e+00,  5.21790917e+00,\n",
       "         5.49017072e+00,  7.84842421e-01,  9.57868308e+00,  4.29297258e-01,\n",
       "         8.15178837e+00,  2.14269639e+00, -9.45640584e-01,  8.00692273e+00,\n",
       "         1.26606824e+01,  1.03308696e+01,  8.20801651e+00,  5.95825369e+00,\n",
       "         8.33319561e+00,  1.45995711e+00,  1.27555282e+01,  5.63991340e+00,\n",
       "        -2.79942810e+00,  1.00247752e+01,  1.19800357e+01,  2.71952406e+00,\n",
       "         8.09572504e+00,  4.77575467e+00,  9.11664165e+00,  5.89659201e+00,\n",
       "         1.52999358e+01,  7.80907611e-01,  9.18972468e-01,  1.21489048e+00,\n",
       "        -4.94552010e+00,  6.92076043e+00,  7.22354143e+00,  6.80496724e+00,\n",
       "         1.93000787e+00,  7.05783388e+00,  1.43156516e+00,  5.49950701e+00,\n",
       "         3.96762225e+00,  1.31398782e+01, -9.36192665e+00,  1.19862525e+01,\n",
       "         3.79896127e+00, -2.36722516e+00,  1.06981181e+01,  5.54568049e-01,\n",
       "         7.27913659e+00,  1.16809101e+01,  1.34277820e+01,  2.55694751e+00,\n",
       "         2.37469389e+00,  2.41621719e+00,  1.94057435e+00, -2.21824177e+00,\n",
       "         6.40034441e+00,  2.71367533e+00,  8.23655252e-01,  3.87217622e+00,\n",
       "         2.42603337e+00,  1.16852218e+01,  4.69672745e+00,  1.33021296e+01,\n",
       "         1.15623107e+01,  1.00313410e+01,  1.58210409e+00,  7.09101778e+00,\n",
       "         1.12440324e+01,  5.15600955e+00, -4.52370852e+00,  6.26491177e+00,\n",
       "         1.01881735e+01,  6.04835713e+00,  1.10465444e+01,  5.80862173e+00,\n",
       "         7.04617040e+00,  4.42960761e+00,  1.13458832e+01, -5.68328601e+00,\n",
       "         2.27974121e+00, -2.72672875e-01,  5.32173224e+00,  1.03000202e+01,\n",
       "         5.49790814e+00,  2.82332108e+00,  7.94943457e+00, -3.80370128e+00,\n",
       "         5.11811515e-01,  1.30128305e+01,  9.39766139e+00,  1.83173634e+00,\n",
       "         3.21831954e+00, -5.22512101e+00,  6.56654247e+00,  3.98813198e+00,\n",
       "         8.99758052e+00,  1.30812361e+01, -5.24116716e-01,  1.19330575e+01,\n",
       "         1.24822118e+01,  1.47918261e+00,  5.39021237e+00,  1.49165684e+01,\n",
       "        -7.36054643e+00, -4.92578996e-01,  5.05666303e+00,  5.16529919e+00,\n",
       "        -9.65544556e-02, -4.23965883e+00,  5.53214770e-01,  6.71641746e+00,\n",
       "         8.45260171e+00, -1.28263780e+00,  9.01846890e-02,  6.03250141e+00,\n",
       "         3.11865736e+00, -9.19286657e+00,  1.66100447e+00,  9.56478521e+00,\n",
       "         8.53429860e+00,  5.63128706e+00,  9.39962833e+00,  1.20656302e+01,\n",
       "         7.25750513e+00, -5.91917434e+00, -7.50108141e-01,  1.07586879e+01,\n",
       "         7.97818591e+00,  7.52187377e+00,  1.14775519e+00,  4.63949593e+00,\n",
       "         9.47058198e+00,  7.59172969e+00, -1.73401106e+00,  1.13784758e+01,\n",
       "         1.10377771e+01,  9.77301233e+00,  9.82879855e+00,  9.07758239e+00,\n",
       "         5.41556378e+00,  9.03785743e+00, -3.13902110e-01,  5.80786194e+00,\n",
       "         2.56725710e+00, -9.20655835e-01,  3.92914226e+00,  1.24614894e+00,\n",
       "         9.53772778e+00,  3.84110036e+00,  9.63540225e+00, -4.58309502e+00,\n",
       "         2.43496489e+00, -6.75856499e-01,  2.12808036e+00,  8.81853982e+00,\n",
       "         6.66796714e+00,  3.32941152e+00,  1.29599134e+01,  5.17248739e+00,\n",
       "         1.01902788e+01,  4.34096913e+00, -2.19738836e+00, -3.81025839e-01,\n",
       "         5.95770227e+00,  5.72490463e+00,  3.66182860e+00,  4.58490164e+00,\n",
       "        -4.37260855e-01,  1.49530518e+00,  1.32838225e+01, -8.61549581e-01,\n",
       "        -8.64289598e+00,  5.07473400e-01,  6.67573378e-01,  2.79788298e+00,\n",
       "        -2.40070389e+00,  9.52806925e+00,  3.96782045e+00,  8.13710166e+00,\n",
       "         2.83564743e+00,  1.00898559e+01,  9.33736946e+00, -2.69819678e+00,\n",
       "         1.18006877e+01, -2.07625150e+00,  1.46748101e+01,  1.45717761e+01,\n",
       "         1.15011671e+01,  1.23287845e+01,  4.31373256e+00,  5.44169323e+00,\n",
       "         7.81929196e+00,  6.03540430e+00, -4.57798545e+00,  3.21587621e+00,\n",
       "         5.68253260e+00,  7.31405020e+00, -3.63819105e-01, -1.96570900e-01,\n",
       "         4.50468915e+00,  2.49707429e+00,  2.30606522e+00,  1.49493771e+00,\n",
       "         4.25071793e+00,  4.45843805e+00, -1.57019461e+00,  1.22417915e+01,\n",
       "         9.72322761e-01,  2.33737705e+00,  3.43618690e+00,  7.48162896e+00,\n",
       "         6.85530490e+00, -1.43539384e+00,  4.77371821e+00,  5.34416530e+00,\n",
       "        -1.46437798e+00,  5.63549512e+00,  5.08875796e+00,  9.35809587e+00,\n",
       "         1.02197627e-01,  1.31536444e+01,  1.26924173e+01,  8.35655976e+00,\n",
       "        -5.64876451e+00,  8.47111385e+00,  1.13637100e+00,  6.02308262e+00,\n",
       "         7.06075324e+00, -5.31854039e+00,  6.60087195e+00,  3.61754305e+00,\n",
       "         9.26135966e+00,  1.90091490e+01,  7.96233991e+00,  8.04882524e+00,\n",
       "         1.16541622e+01,  3.95460938e+00, -2.86610479e-01,  9.05196978e+00,\n",
       "         4.29093252e+00, -7.77654174e+00,  2.03023908e+00,  4.83517039e+00,\n",
       "         5.04221440e+00,  5.14056490e+00, -2.01283043e+00,  6.23922428e+00,\n",
       "         2.66072633e+00,  5.98250646e+00,  9.18159115e+00,  5.05682591e+00,\n",
       "         6.02714916e+00,  4.07971983e+00,  4.61158961e+00,  1.51989141e+01,\n",
       "         2.93197787e+00,  2.67000777e+00, -1.80327502e+00,  6.01717466e+00,\n",
       "        -8.75460619e-01, -2.49048976e+00, -3.27620910e-01,  7.58317721e+00,\n",
       "        -2.50340893e+00, -1.47111812e+00,  1.24304477e+01, -3.65387651e-01,\n",
       "         6.09894546e+00, -5.19681885e+00,  9.29880842e+00,  5.22374972e+00,\n",
       "         5.28998670e+00,  9.54174083e+00,  1.18101714e+00, -3.16620597e+00,\n",
       "         6.89792443e+00,  2.86448265e+00, -3.37414982e+00,  5.72854931e+00,\n",
       "         6.23045059e+00,  5.70779609e+00,  9.45514172e+00,  2.17635481e+00,\n",
       "         2.16012071e+00, -1.34215890e+00,  3.56254958e+00,  6.08419227e+00,\n",
       "        -5.22382299e+00,  6.88395169e+00,  2.66764448e+00,  5.01287632e+00,\n",
       "         1.60484039e+00,  1.11608048e+01, -1.56177242e+00,  6.63841311e+00,\n",
       "         6.84202246e-01, -7.11060441e-01,  9.54323808e+00,  9.94904110e+00,\n",
       "         1.04679936e+01, -1.99904246e-01,  3.63883875e+00,  8.17594644e+00,\n",
       "        -1.68541150e+00, -1.72313056e-01, -2.30471790e+00,  3.91161913e-01,\n",
       "         6.63193482e+00,  3.98889296e+00,  1.92821301e+00,  9.33257302e+00,\n",
       "         5.07667820e+00,  7.83410483e-01,  2.46883016e+00,  3.29394245e+00,\n",
       "        -3.14883706e+00, -1.61107607e+00,  4.08866040e+00,  6.10014827e+00,\n",
       "         1.11580375e+01,  2.06417026e+00,  1.10081357e+01, -3.34692708e+00,\n",
       "         2.62963028e+00,  1.66368946e+00,  1.08388041e+01, -8.22623978e-01,\n",
       "         4.24963633e+00,  3.97606505e+00,  2.04696662e+00,  7.58968073e+00,\n",
       "         4.17165858e+00,  4.27647125e+00,  8.53206590e+00,  3.58874881e+00,\n",
       "        -1.47622108e-01,  1.13000680e+01,  2.51167899e-01,  9.42949197e-01]),\n",
       " array([11.90687157,  1.09718651, -3.1253199 , ..., 18.24059728,\n",
       "         6.66536148,  2.62273298])]"
      ]
     },
     "execution_count": 2,
     "metadata": {},
     "output_type": "execute_result"
    }
   ],
   "source": [
    "# Creating a list with the normally distributed arrays with different sample sizes\n",
    "mean= 5\n",
    "std_dev=5\n",
    "sample_size=[10, 50, 500, 5000]\n",
    "\n",
    "sample_list = []\n",
    "for i in range(4):\n",
    "    x = scipy.stats.norm.rvs(loc=mean, scale=std_dev, size=sample_size[i])\n",
    "    sample_list.append(x)\n",
    "\n",
    "sample_list"
   ]
  },
  {
   "cell_type": "markdown",
   "metadata": {},
   "source": [
    "#### Step 2: Plot normal distributions.\n",
    "\n",
    "To check the shape of the samples you have just created, you can use matplotlib. For example, you can use it to plot a histogram of each sample. \n",
    "\n",
    "If you did, your outputs would be really similar to the ones below:\n",
    "\n",
    "![normal distributions with different sample sizes](../images/ch-1.png)"
   ]
  },
  {
   "cell_type": "code",
   "execution_count": 3,
   "metadata": {},
   "outputs": [
    {
     "data": {
      "image/png": "[encoded data removed]",
      "text/plain": [
       "<Figure size 432x288 with 1 Axes>"
      ]
     },
     "metadata": {
      "needs_background": "light"
     },
     "output_type": "display_data"
    },
    {
     "data": {
      "image/png": "[encoded data removed]",
      "text/plain": [
       "<Figure size 432x288 with 1 Axes>"
      ]
     },
     "metadata": {
      "needs_background": "light"
     },
     "output_type": "display_data"
    },
    {
     "data": {
      "image/png": "[encoded data removed]",
      "text/plain": [
       "<Figure size 432x288 with 1 Axes>"
      ]
     },
     "metadata": {
      "needs_background": "light"
     },
     "output_type": "display_data"
    },
    {
     "data": {
      "image/png": "[encoded data removed]",
      "text/plain": [
       "<Figure size 432x288 with 1 Axes>"
      ]
     },
     "metadata": {
      "needs_background": "light"
     },
     "output_type": "display_data"
    }
   ],
   "source": [
    "for i in sample_list:\n",
    "    plt.hist(i, bins = 20)\n",
    "    plt.show()"
   ]
  },
  {
   "cell_type": "markdown",
   "metadata": {},
   "source": [
    "#### Compare the distributions above. What do you observe? Explain with the Central Limit Theorem."
   ]
  },
  {
   "cell_type": "code",
   "execution_count": 4,
   "metadata": {},
   "outputs": [
    {
     "data": {
      "text/plain": [
       "'\\nIt seems that at higher sample sizes or observations of the variable in X. The same tend to:\\n\\n- Have a normal frequency distribution\\n- The mean (5) tends to be the center of such distributions\\n\\n'"
      ]
     },
     "execution_count": 4,
     "metadata": {},
     "output_type": "execute_result"
    }
   ],
   "source": [
    "\"\"\"\n",
    "It seems that at higher sample sizes or observations of the variable in X. The same tend to:\n",
    "\n",
    "- Have a normal frequency distribution\n",
    "- The mean (5) tends to be the center of such distributions\n",
    "\n",
    "\"\"\""
   ]
  },
  {
   "cell_type": "markdown",
   "metadata": {},
   "source": [
    "#### Bonus: Plot normal distributions.\n",
    "\n",
    "Even though you still don't know how to use matplotlib, as a bonus challenge, you can try to reproduce the plot above using the samples you have created. This plotting library will be introduced later this week, so don't worry if you don't manage to get the results you want now: you can always come back to solve this challenge later."
   ]
  },
  {
   "cell_type": "code",
   "execution_count": 5,
   "metadata": {},
   "outputs": [
    {
     "data": {
      "image/png": "[encoded data removed]",
      "text/plain": [
       "<Figure size 1080x288 with 4 Axes>"
      ]
     },
     "metadata": {
      "needs_background": "light"
     },
     "output_type": "display_data"
    }
   ],
   "source": [
    "# your code here\n",
    "f, ax = plt.subplots(1,4)\n",
    "f.set_figwidth(15)\n",
    "bins = 20\n",
    "for i,x in zip(sample_list, range(4)):\n",
    "    ax[x].hist(i, bins)"
   ]
  },
  {
   "cell_type": "markdown",
   "metadata": {},
   "source": [
    "# Challenge 2 - Plot Probability Mass Function (PMF)"
   ]
  },
  {
   "cell_type": "markdown",
   "metadata": {},
   "source": [
    "### Background knowledge\n",
    "\n",
    "[PMF](https://en.wikipedia.org/wiki/Probability_mass_function) shows the probability distribution of a **discrete random variable**. A [discrete random variable](https://en.wikipedia.org/wiki/Random_variable#Discrete_random_variable) has random numeric values that are not continuous. For example, the number of people in a household can only be integers but not floats. Therefore the number of people in a household is a discrete variable.\n",
    "\n",
    "### Challenge\n",
    "\n",
    "We assume that the probability of clicking an advertisement in a Youtube video is 0.15. We have a sample of 5 people who watched the video and we want to plot the PMF for a binomial distribution.\n",
    "\n",
    "#### Step 1: Create the binomial distribution mentioned above. Store the result in a variable called `dist`. \n",
    "**Hint**: use binom from `scipy.stats.binom`. This object takes *n* and *p* as shape parameters, where *n* is the number of independent experiments and *p* the probability of success of the experiment."
   ]
  },
  {
   "cell_type": "code",
   "execution_count": 6,
   "metadata": {},
   "outputs": [],
   "source": [
    "# your code here\n",
    "dist = scipy.stats.binom(5, 0.15)"
   ]
  },
  {
   "cell_type": "markdown",
   "metadata": {},
   "source": [
    "#### Step 2: Plot the PMF of the distribution. \n",
    "To do it, run the code in the cell below. \n",
    "\n",
    "**Hint**: Your output should look like the one below:\n",
    "\n",
    "![binom 10](../images/ch-2.png)"
   ]
  },
  {
   "cell_type": "code",
   "execution_count": 7,
   "metadata": {},
   "outputs": [
    {
     "data": {
      "image/png": "[encoded data removed]",
      "text/plain": [
       "<Figure size 432x288 with 1 Axes>"
      ]
     },
     "metadata": {
      "needs_background": "light"
     },
     "output_type": "display_data"
    }
   ],
   "source": [
    "# run this code\n",
    "x = range(5)\n",
    "\n",
    "fig, ax = plt.subplots(1, 1)\n",
    "\n",
    "plt.plot(x, dist.pmf(x))\n",
    "\n",
    "plt.show()"
   ]
  },
  {
   "cell_type": "markdown",
   "metadata": {},
   "source": [
    "#### Step 3: Explain what you observe from the plot above."
   ]
  },
  {
   "cell_type": "code",
   "execution_count": 8,
   "metadata": {},
   "outputs": [
    {
     "data": {
      "text/plain": [
       "'\\nThe higher the number of independent experiments (people watching YouTube videos), \\nthe lower the (p) probability of success (Clicking a YouTube ad)\\n'"
      ]
     },
     "execution_count": 8,
     "metadata": {},
     "output_type": "execute_result"
    }
   ],
   "source": [
    "\"\"\"\n",
    "The higher the number of independent experiments (people watching YouTube videos), \n",
    "the lower the (p) probability of success (Clicking a YouTube ad)\n",
    "\"\"\""
   ]
  },
  {
   "cell_type": "markdown",
   "metadata": {},
   "source": [
    "#### Step 4: Now plot PMF with 50, 500, and 5000 visitors.\n",
    "To plot the PMF, you can copy the code given above and replace variable `dist` for the name of the variables where you have stored the new binomial objects for 50, 500 and 5000 visitors."
   ]
  },
  {
   "cell_type": "code",
   "execution_count": 9,
   "metadata": {},
   "outputs": [
    {
     "data": {
      "image/png": "[encoded data removed]",
      "text/plain": [
       "<Figure size 432x288 with 1 Axes>"
      ]
     },
     "metadata": {
      "needs_background": "light"
     },
     "output_type": "display_data"
    },
    {
     "data": {
      "image/png": "[encoded data removed]",
      "text/plain": [
       "<Figure size 432x288 with 1 Axes>"
      ]
     },
     "metadata": {
      "needs_background": "light"
     },
     "output_type": "display_data"
    },
    {
     "data": {
      "image/png": "[encoded data removed]",
      "text/plain": [
       "<Figure size 432x288 with 1 Axes>"
      ]
     },
     "metadata": {
      "needs_background": "light"
     },
     "output_type": "display_data"
    }
   ],
   "source": [
    "# your code here\n",
    "sample_sizes=[50, 500, 5000]\n",
    "p=0.15\n",
    "\n",
    "for i in sample_sizes:\n",
    "    x = range(i)\n",
    "    dist = scipy.stats.binom(i,p)\n",
    "    fig, ax = plt.subplots(1, 1)\n",
    "\n",
    "    plt.plot(x, dist.pmf(x))\n",
    "\n",
    "    plt.show()"
   ]
  },
  {
   "cell_type": "markdown",
   "metadata": {},
   "source": [
    "#### Step 5: What did you notice from the distribution plots? Comment your findings."
   ]
  },
  {
   "cell_type": "code",
   "execution_count": 10,
   "metadata": {},
   "outputs": [
    {
     "data": {
      "text/plain": [
       "'\\nBy the magic of Central Limit Theorem the curves are normalized. \\n'"
      ]
     },
     "execution_count": 10,
     "metadata": {},
     "output_type": "execute_result"
    }
   ],
   "source": [
    "\"\"\"\n",
    "By the magic of Central Limit Theorem the curves are normalized. \n",
    "\"\"\""
   ]
  },
  {
   "cell_type": "markdown",
   "metadata": {},
   "source": [
    "# Challenge 3\n",
    "#### Step 1: Research the Poisson distribution. Write about your own understanding of the Poisson distribution."
   ]
  },
  {
   "cell_type": "code",
   "execution_count": 11,
   "metadata": {},
   "outputs": [
    {
     "data": {
      "text/plain": [
       "'\\nPoisson distribution counts the number of discrete events occurring at a determined time for a given\\naverage rate of the events.\\n'"
      ]
     },
     "execution_count": 11,
     "metadata": {},
     "output_type": "execute_result"
    }
   ],
   "source": [
    "\"\"\"\n",
    "Poisson distribution counts the number of discrete events occurring at a determined time for a given\n",
    "average rate of the events.\n",
    "\"\"\""
   ]
  },
  {
   "cell_type": "markdown",
   "metadata": {},
   "source": [
    "#### Step 2: A website has an average of 300 visits per day. What is the probability of getting 320 visitors in a day?\n",
    "\n",
    "**Hint**: use `scipy.stats.poisson.pmf`."
   ]
  },
  {
   "cell_type": "code",
   "execution_count": 12,
   "metadata": {},
   "outputs": [
    {
     "name": "stdout",
     "output_type": "stream",
     "text": [
      "The probability of getting 320 visitors a day is of 1.1612348610402474%\n"
     ]
    }
   ],
   "source": [
    "# your code here\n",
    "k = 320\n",
    "lambda_ex = 300\n",
    "prob_k = scipy.stats.poisson.pmf(k=k, mu=lambda_ex)*100\n",
    "print(f'The probability of getting {k} visitors a day is of {prob_k}%')"
   ]
  },
  {
   "cell_type": "markdown",
   "metadata": {},
   "source": [
    "#### Step 3: What is the probability of getting 60 visits?"
   ]
  },
  {
   "cell_type": "code",
   "execution_count": 55,
   "metadata": {},
   "outputs": [
    {
     "name": "stdout",
     "output_type": "stream",
     "text": [
      "The probability of getting 60 visitors a day is of 2.622743762294515e-62%\n"
     ]
    }
   ],
   "source": [
    "# your code here\n",
    "k = 60\n",
    "lambda_ex = 300\n",
    "prob_k = scipy.stats.poisson.pmf(k=k, mu=lambda_ex)*100\n",
    "print(f'The probability of getting {k} visitors a day is of {prob_k}%')"
   ]
  },
  {
   "cell_type": "markdown",
   "metadata": {},
   "source": [
    "#### Step 4: Create a list to store the Poisson distribution probabilities for 0 to 1000 visitors. Store your list in a variable called `arr`."
   ]
  },
  {
   "cell_type": "code",
   "execution_count": 56,
   "metadata": {},
   "outputs": [],
   "source": [
    "# your code here\n",
    "arr = range(1000)"
   ]
  },
  {
   "cell_type": "markdown",
   "metadata": {},
   "source": [
    "#### Step 5: Plot the probabilities.\n",
    "To do it, run the code in the cell below. Your plot should look like the one below:\n",
    "\n",
    "![poisson distribution](../images/ch-3.png)"
   ]
  },
  {
   "cell_type": "code",
   "execution_count": 25,
   "metadata": {},
   "outputs": [
    {
     "data": {
      "image/png": "[encoded data removed]",
      "text/plain": [
       "<Figure size 432x288 with 1 Axes>"
      ]
     },
     "metadata": {
      "needs_background": "light"
     },
     "output_type": "display_data"
    }
   ],
   "source": [
    "# run this code\n",
    "plt.plot(stats.poisson.pmf(arr, 300))\n",
    "plt.show()"
   ]
  },
  {
   "cell_type": "markdown",
   "metadata": {},
   "source": [
    "# Challenge 4 - Central Limit Theorem\n",
    "\n",
    "A delivery company needs 35 minutes to deliver a package, with a standard deviation of 8 minutes. Suppose that in one day, they deliver 200 packages.\n",
    "\n",
    "**Hint**: `stats.norm.cdf` can help you find the answers.\n",
    "\n",
    "#### Step 1: What is the probability that the mean delivery time today is between 30 and 35 minutes?"
   ]
  },
  {
   "cell_type": "code",
   "execution_count": 46,
   "metadata": {},
   "outputs": [
    {
     "data": {
      "text/plain": [
       "4.836102065938057e-19"
      ]
     },
     "execution_count": 46,
     "metadata": {},
     "output_type": "execute_result"
    }
   ],
   "source": [
    "# your code here\n",
    "daily_mean=35\n",
    "time = 30\n",
    "scale = 8 / np.sqrt(200)\n",
    "\n",
    "probs30 = stats.norm.cdf(time, daily_mean, scale)\n",
    "probs30"
   ]
  },
  {
   "cell_type": "code",
   "execution_count": 48,
   "metadata": {},
   "outputs": [
    {
     "data": {
      "text/plain": [
       "0.5"
      ]
     },
     "execution_count": 48,
     "metadata": {},
     "output_type": "execute_result"
    }
   ],
   "source": [
    "daily_mean=35\n",
    "time = 35\n",
    "scale = 8 / np.sqrt(200)\n",
    "\n",
    "probs35 = stats.norm.cdf(time, daily_mean, scale)\n",
    "probs35"
   ]
  },
  {
   "cell_type": "code",
   "execution_count": 47,
   "metadata": {},
   "outputs": [
    {
     "data": {
      "text/plain": [
       "0.5"
      ]
     },
     "execution_count": 47,
     "metadata": {},
     "output_type": "execute_result"
    }
   ],
   "source": [
    "prob_between = probs35 - probs30\n",
    "prob_between"
   ]
  },
  {
   "cell_type": "markdown",
   "metadata": {},
   "source": [
    "#### Step 2: What is the probability that in total, it takes more than 115 hours to deliver all 200 packages?"
   ]
  },
  {
   "cell_type": "code",
   "execution_count": 54,
   "metadata": {},
   "outputs": [
    {
     "data": {
      "text/plain": [
       "0.8116204410942089"
      ]
     },
     "execution_count": 54,
     "metadata": {},
     "output_type": "execute_result"
    }
   ],
   "source": [
    "import numpy as np\n",
    "\n",
    "daily_mean = 35\n",
    "time = 6900\n",
    "time_per_package = time / 200\n",
    "scale = 8 / np.sqrt(200)\n",
    "\n",
    "probs = 1 - stats.norm.cdf(time_per_package, daily_mean, scale)\n",
    "probs"
   ]
  },
  {
   "cell_type": "markdown",
   "metadata": {},
   "source": [
    "## Challenge 5 - Normal Variables\n",
    "The value (in thousands) of the monthly sales of a publishing company follows a normal distribution with a mean equal to 200 and a standard deviation equal to 40.\n",
    "\n",
    "<div align=\"center\">$X → N(200,40)$</div>\n",
    "\n",
    "**Hint**: `stats.norm.cdf` can help you find the answers.\n",
    "\n",
    "#### Step 1: Find the probability that the monthly sales are more than 300."
   ]
  },
  {
   "cell_type": "code",
   "execution_count": 62,
   "metadata": {},
   "outputs": [
    {
     "data": {
      "text/plain": [
       "0.006209665325776159"
      ]
     },
     "execution_count": 62,
     "metadata": {},
     "output_type": "execute_result"
    }
   ],
   "source": [
    "# your code here\n",
    "prob_0_to_300 = stats.norm.cdf(300, loc=200, scale=40)\n",
    "prob_more_300 = 1 - prob_0_to_300\n",
    "prob_more_300"
   ]
  },
  {
   "cell_type": "markdown",
   "metadata": {},
   "source": [
    "#### Step 2: Find the probability that the monthly sales fall between 160 and 240."
   ]
  },
  {
   "cell_type": "code",
   "execution_count": 63,
   "metadata": {},
   "outputs": [],
   "source": [
    "# your code here\n",
    "prob_160 = stats.norm.cdf(160, 200, 40)\n",
    "prob_240 = stats.norm.cdf(240, 200, 40)"
   ]
  },
  {
   "cell_type": "code",
   "execution_count": 65,
   "metadata": {},
   "outputs": [
    {
     "data": {
      "text/plain": [
       "0.6826894921370859"
      ]
     },
     "execution_count": 65,
     "metadata": {},
     "output_type": "execute_result"
    }
   ],
   "source": [
    "prob_160_240 = prob_240 - prob_160\n",
    "prob_160_240"
   ]
  },
  {
   "cell_type": "markdown",
   "metadata": {},
   "source": [
    "#### Step 3: Find the probability that the monthly sales do not exceed 150."
   ]
  },
  {
   "cell_type": "code",
   "execution_count": 67,
   "metadata": {},
   "outputs": [
    {
     "data": {
      "text/plain": [
       "0.10564977366685535"
      ]
     },
     "execution_count": 67,
     "metadata": {},
     "output_type": "execute_result"
    }
   ],
   "source": [
    "# your code here\n",
    "not_exc_15 = stats.norm.cdf(150, 200, 40)\n",
    "not_exc_15"
   ]
  },
  {
   "cell_type": "markdown",
   "metadata": {},
   "source": [
    "#### Step 4: Find the probability that the monthly sales exceed 3000."
   ]
  },
  {
   "cell_type": "code",
   "execution_count": 72,
   "metadata": {},
   "outputs": [
    {
     "data": {
      "text/plain": [
       "0.0"
      ]
     },
     "execution_count": 72,
     "metadata": {},
     "output_type": "execute_result"
    }
   ],
   "source": [
    "# your code here\n",
    "until_3000 = stats.norm.cdf(3000, 200, 40)\n",
    "excede_3000 = 1 - until_3000\n",
    "excede_3000"
   ]
  },
  {
   "cell_type": "markdown",
   "metadata": {},
   "source": [
    "# Challenge 6 - Poisson distribution\n",
    "The mean number of violent robberies per month that are registered in a particular barrio is 4.\n",
    "\n",
    "**Hint**: `stats.poisson.cdf` can help you find the answers.\n",
    "\n",
    "#### Step 1: Find the probability that in a particular month there is no violent robbery."
   ]
  },
  {
   "cell_type": "code",
   "execution_count": 57,
   "metadata": {},
   "outputs": [
    {
     "data": {
      "text/plain": [
       "0.018315638888734182"
      ]
     },
     "execution_count": 57,
     "metadata": {},
     "output_type": "execute_result"
    }
   ],
   "source": [
    "# your code here\n",
    "stats.poisson.cdf(0, 4)"
   ]
  },
  {
   "cell_type": "markdown",
   "metadata": {},
   "source": [
    "#### Step 2: Find the probability that there are at least 1 robbery in a given month."
   ]
  },
  {
   "cell_type": "code",
   "execution_count": 59,
   "metadata": {},
   "outputs": [
    {
     "data": {
      "text/plain": [
       "0.9084218055563291"
      ]
     },
     "execution_count": 59,
     "metadata": {},
     "output_type": "execute_result"
    }
   ],
   "source": [
    "# your code here\n",
    "prob1 = stats.poisson.cdf(1, 4)\n",
    "1 - prob1"
   ]
  },
  {
   "cell_type": "markdown",
   "metadata": {},
   "source": [
    "#### Step 3: Find the probability that there are between 2 and 6 (inclusive) robberies in a given month."
   ]
  },
  {
   "cell_type": "code",
   "execution_count": 60,
   "metadata": {},
   "outputs": [
    {
     "data": {
      "text/plain": [
       "0.6512227160438819"
      ]
     },
     "execution_count": 60,
     "metadata": {},
     "output_type": "execute_result"
    }
   ],
   "source": [
    "# your code here\n",
    "prob6 = stats.poisson.cdf(6, 4)\n",
    "prob2 = stats.poisson.cdf(2, 4)\n",
    "\n",
    "prob_2_6 = prob6 - prob2\n",
    "prob_2_6"
   ]
  },
  {
   "cell_type": "markdown",
   "metadata": {},
   "source": [
    "#### Step 4: Find the probability that there are more than 2 robberies in 15 days."
   ]
  },
  {
   "cell_type": "code",
   "execution_count": 61,
   "metadata": {},
   "outputs": [
    {
     "data": {
      "text/plain": [
       "0.3233235838169366"
      ]
     },
     "execution_count": 61,
     "metadata": {},
     "output_type": "execute_result"
    }
   ],
   "source": [
    "prob2 = stats.poisson.cdf(2, 2)\n",
    "\n",
    "\n",
    "prob_more_than_2 = 1 - prob2\n",
    "prob_more_than_2"
   ]
  },
  {
   "cell_type": "code",
   "execution_count": null,
   "metadata": {},
   "outputs": [],
   "source": []
  }
 ],
 "metadata": {
  "anaconda-cloud": {},
  "kernelspec": {
   "display_name": "Python 3",
   "language": "python",
   "name": "python3"
  },
  "language_info": {
   "codemirror_mode": {
    "name": "ipython",
    "version": 3
   },
   "file_extension": ".py",
   "mimetype": "text/x-python",
   "name": "python",
   "nbconvert_exporter": "python",
   "pygments_lexer": "ipython3",
   "version": "3.7.7"
  }
 },
 "nbformat": 4,
 "nbformat_minor": 1
}
